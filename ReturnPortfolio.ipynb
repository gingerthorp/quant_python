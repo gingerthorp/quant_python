{
 "cells": [
  {
   "cell_type": "markdown",
   "metadata": {},
   "source": [
    "본 함수는 R의 `Return.portfolio()` 함수를 카피한 것으로, R 함수의 깃허브 주소는 다음과 같습니다\n",
    "\n",
    "```\n",
    "https://github.com/R-Finance/PerformanceAnalytics/blob/master/R/Return.portfolio.R\n",
    "```\n",
    "\n",
    "먼저 필요한 패키지들을 불러옵니다"
   ]
  },
  {
   "cell_type": "code",
   "execution_count": 16,
   "metadata": {},
   "outputs": [],
   "source": [
    "import pandas as pd\n",
    "import numpy as np\n",
    "import sys\n",
    "from progressbar import ProgressBar\n",
    "from datetime import timedelta "
   ]
  },
  {
   "cell_type": "markdown",
   "metadata": {},
   "source": [
    "R의 `endpoints()` 함수는 원하는 주기별 위치를 찾아주는 함수입니다. (예: 데이터에서 월말에 해당하는 날짜는 몇번째 인덱스에 위치하는가)\n",
    "해당 함수를 그대로 복제해주도록 합니다."
   ]
  },
  {
   "cell_type": "code",
   "execution_count": 20,
   "metadata": {},
   "outputs": [],
   "source": [
    "def endpoints(R, freq):    \n",
    "    \n",
    "    # freq: W, M, Q, Y    \n",
    "    if isinstance(R.index, pd.DatetimeIndex) :\n",
    "    \n",
    "        s = pd.Series(np.arange(R.shape[0]), index = R.index)\n",
    "        ep = s.resample(freq).max()    \n",
    "        return(ep)\n",
    "    \n",
    "    else:\n",
    "        sys.exit('Error: R is not DatetimeIndex type')"
   ]
  },
  {
   "cell_type": "markdown",
   "metadata": {},
   "source": [
    "R의 `periodicity()` 함수는 xts 데이터의 주기(초/분/시/일/월...)를 확인해주는 함수입니다. 해당 함수와 유사하게 복제해주도록 합니다. 데이터의 각 index 간 몇초가 차이 나는지를 계산해줍니다."
   ]
  },
  {
   "cell_type": "code",
   "execution_count": 21,
   "metadata": {},
   "outputs": [],
   "source": [
    "def periodicity(R):\n",
    "    med  = np.median(np.diff(R.index.values))\n",
    "    seconds = int(med.astype('timedelta64[s]').item().total_seconds())  \n",
    "    \n",
    "    return(seconds)"
   ]
  },
  {
   "cell_type": "markdown",
   "metadata": {},
   "source": [
    "마지막으로 `ReturnPortfolio()` 함수를 생성합니다. 각 인자는 다음과 같습니다.\n",
    "\n",
    "- R: 수익률. 데이터프레임 및 인덱스가 Datetime 형태로 입력되야 함\n",
    "- weights: 원하는 시점별 리밸런싱 비중. 데이터프레임 및 인덱스가 Datetime 형태로 입력되야 함\n",
    "- rebalance_on: 리밸런싱 주기. Y(연), Q(분기), M(월), W(주) 선택 가능하며 공백으로 둘 시 최초 1회 리밸런싱만 실시"
   ]
  },
  {
   "cell_type": "code",
   "execution_count": 50,
   "metadata": {},
   "outputs": [],
   "source": [
    "# R: Return, form of dataframes with indexe as Datetime\n",
    "# weights: weights, form of single list or dataframe\n",
    "# rebalance_on: rebalancing period, form of character\n",
    "\n",
    "def ReturnPortfolio(R, weights, rebalance_on = [np.nan, 'Y', 'Q', 'M', 'W']) :\n",
    "    \n",
    "    rebalance_on = rebalance_on[0]        \n",
    "    start_date = (R.index[0] + timedelta(seconds = -periodicity(R))).strftime('%Y-%m-%d')\n",
    "    \n",
    "    # When rebalancing weights are fixed (single list form)\n",
    "    if type(weights) == list:\n",
    "        \n",
    "        if pd.isnull(rebalance_on):\n",
    "            # then use the weights only at the beginning of the returns series, without rebalancing\n",
    "            weights = pd.DataFrame([weights], columns = R.columns)\n",
    "            weights.index = [start_date]\n",
    "        \n",
    "        else :\n",
    "            ep = endpoints(R, rebalance_on)\n",
    "            #  generate a time series of the given weights at the endpoints\n",
    "            weights = pd.DataFrame(np.repeat([weights],len(ep) + 1,axis=0), columns = R.columns)\n",
    "            ep_list = ep.index.format()    \n",
    "            weights.index = [start_date] + ep_list\n",
    "\n",
    "    weights.index = pd.to_datetime(weights.index)\n",
    "    \n",
    "    if R.isnull().values.any() :\n",
    "        print(\"NA's detected: filling NA's with zeros\")\n",
    "        R[np.isnan(R)] = 0\n",
    "\n",
    "    if not isinstance(R.index, pd.DatetimeIndex) :\n",
    "        sys.exit('The index of returns is not Datetime.')    \n",
    "\n",
    "    if R.shape[1] != weights.shape[1] :\n",
    "        sys.exit(\"The number of columns in the Return and Weights are different.\")\n",
    "\n",
    "    if R.index[-1] < weights.index[0] + pd.DateOffset(days=1) :\n",
    "        sys.exit(\"The starting date for rebalancing is incorrect.\")   \n",
    "        \n",
    "    if (weights.sum(axis = 1) != 1).values.sum() >= 1 :\n",
    "        sys.exit(\"There is a rebalancing point with a sum of weight than 1.\")\n",
    "    \n",
    "\n",
    "    # Subset the R object if the first rebalance date is after the first date \n",
    "    # in the return series\n",
    "    if R.index[0] < weights.index[0] :\n",
    "        R = R.loc[R.index >= weights.index[0] + pd.DateOffset(days=1)]    \n",
    "\n",
    "    df_zero1 = pd.DataFrame(data = np.zeros(shape = (R.shape[0], R.shape[1])), index = R.index, columns = [R.columns])\n",
    "    df_zero2 = pd.DataFrame(data = np.zeros(shape = R.shape[0]), index = R.index, columns = ['Portfolio'])\n",
    "    \n",
    "    # bop = beginning of period\n",
    "    # eop = end of period\n",
    "    # Initialize objects\n",
    "    bop_value = df_zero1.copy()\n",
    "    eop_value = df_zero1.copy()\n",
    "    bop_weights = df_zero1.copy()\n",
    "    eop_weights = df_zero1.copy()\n",
    "    period_contrib = df_zero1.copy()\n",
    "\n",
    "    bop_value_total = df_zero2.copy()\n",
    "    eop_value_total = df_zero2.copy()\n",
    "    ret = df_zero2.copy()\n",
    "\n",
    "    # The end_value is the end of period total value from the prior period\n",
    "    end_value = 1\n",
    "\n",
    "    # initialize counter\n",
    "    k = 0\n",
    "    \n",
    "    # end length of for loop value\n",
    "    end = (len(weights) - 1) if len(weights) > 1 else 1\n",
    "    \n",
    "    pbar = ProgressBar()\n",
    "    \n",
    "    for i in pbar(range(0 , end)) :\n",
    "        \n",
    "        # identify rebalance from and to dates and           \n",
    "        # subset the Returns object\n",
    "        fm = weights.index[i] + pd.DateOffset(days=1)        \n",
    "        \n",
    "        if (i == (len(weights) - 1)):        \n",
    "            to = R.index[-1]\n",
    "        else :\n",
    "            to = weights.index[i + 1]            \n",
    "        \n",
    "        returns = R.loc[fm : to, ]\n",
    "\n",
    "        # Only enter the loop if we have a valid returns object\n",
    "        if len(returns) >= 1 :\n",
    "            \n",
    "            # inner loop counter        \n",
    "            jj = 0\n",
    "\n",
    "            for j in range(0, len(returns) ) :\n",
    "\n",
    "                # We need to know when we are at the start of this inner loop so we can\n",
    "                # set the correct beginning of period value. We start a new inner loop\n",
    "                # at each rebalance date.\n",
    "                \n",
    "                # Compute beginning of period values                    \n",
    "                if jj == 0 :\n",
    "                    bop_value.iloc[k, :] = end_value * weights.iloc[i, :].values\n",
    "                else :\n",
    "                    bop_value.iloc[k, :] = eop_value.iloc[k-1, :]\n",
    "\n",
    "                bop_value_total.iloc[k] = bop_value.iloc[k, :].sum()                \n",
    "                                \n",
    "                # Compute end of period values\n",
    "                eop_value.iloc[k, :] = (1 + returns.iloc[j, :]).values * bop_value.iloc[k, :].values\n",
    "                eop_value_total.iloc[k] = eop_value.iloc[k, :].sum()\n",
    "\n",
    "                # Compute BOP and EOP weights\n",
    "                bop_weights.iloc[k, :] = bop_value.iloc[k, :] / float(bop_value_total.iloc[k])\n",
    "                eop_weights.iloc[k, :] = eop_value.iloc[k, :] / float(eop_value_total.iloc[k])\n",
    "                                   \n",
    "                # Compute period contribution\n",
    "                period_contrib.iloc[k, :] = returns.iloc[j, :].values * bop_value.iloc[k, :].values / sum(bop_value.iloc[k, :])\n",
    "                \n",
    "                # Compute portfolio returns\n",
    "                ret.iloc[k] = eop_value_total.iloc[k] / end_value - 1\n",
    "                \n",
    "                # Update end_value\n",
    "                end_value = float(eop_value_total.iloc[k])\n",
    "\n",
    "                # increment the counters            \n",
    "                jj += 1\n",
    "                k += 1\n",
    "\n",
    "    result = {'returns' : ret, 'BOP_weights' : bop_weights, 'EOP_weights' : eop_weights, 'contribution': period_contrib,\n",
    "             'BOP_value' : bop_value, 'EOP_value' : eop_value}   \n",
    "    \n",
    "    \n",
    "    return(result)"
   ]
  },
  {
   "cell_type": "markdown",
   "metadata": {},
   "source": [
    "결과물은 다음과 같습니다\n",
    "\n",
    "- returns: 포트폴리오 수익률\n",
    "- BOP_weights: 매일 시가의 자산별 비중\n",
    "- EOP_weights: 매일 종가의 자산별 비중\n",
    "- contribution: 매일 자산별 수익 기여도\n",
    "- BOP_value: 매일 시가의 자산별 가치\n",
    "- EOP_value: 매일 종가의 자산별 자산\n",
    "\n",
    "함수 테스트를 위해 웹에서 데이터를 받아오도록 하겠습니다.\n",
    "\n",
    "- SPY: S&P 500\n",
    "- TLT: 장기채"
   ]
  },
  {
   "cell_type": "code",
   "execution_count": 48,
   "metadata": {},
   "outputs": [],
   "source": [
    "import pandas as pd\n",
    "import numpy as np\n",
    "from progressbar import ProgressBar\n",
    "import pandas_datareader as web\n",
    "\n",
    "tickers = ['SPY', 'TLT']\n",
    "all_data = {}\n",
    "for ticker in tickers:\n",
    "    all_data[ticker] = web.DataReader(ticker, 'yahoo', start = '2003-01-01')    \n",
    "\n",
    "prices = pd.DataFrame({tic: data['Adj Close'] for tic, data in all_data.items()})\n",
    "R = prices.pct_change(1).dropna()"
   ]
  },
  {
   "cell_type": "markdown",
   "metadata": {},
   "source": [
    "# 1. 60대 40 포트폴리오, 리밸런싱 없음\n",
    "\n",
    "초기 비중 그대로 유지하는 경우 입니다. rebalance_on을 공백으로 둡니다."
   ]
  },
  {
   "cell_type": "code",
   "execution_count": 53,
   "metadata": {},
   "outputs": [
    {
     "name": "stderr",
     "output_type": "stream",
     "text": [
      "100% |########################################################################|\n"
     ]
    }
   ],
   "source": [
    "reb_no = ReturnPortfolio(R, [0.6, 0.4])"
   ]
  },
  {
   "cell_type": "markdown",
   "metadata": {},
   "source": [
    "포트폴리오의 수익률, 비중, 기여도 등이 계산됩니다."
   ]
  },
  {
   "cell_type": "code",
   "execution_count": 52,
   "metadata": {},
   "outputs": [
    {
     "data": {
      "text/plain": [
       "{'returns':             Portfolio\n",
       " Date                 \n",
       " 2003-01-02   0.008971\n",
       " 2003-01-03   0.002783\n",
       " 2003-01-06   0.009794\n",
       " 2003-01-07  -0.000161\n",
       " 2003-01-08  -0.007019\n",
       " ...               ...\n",
       " 2021-02-17   0.001715\n",
       " 2021-02-18  -0.004205\n",
       " 2021-02-19  -0.004577\n",
       " 2021-02-22  -0.007672\n",
       " 2021-02-23   0.000224\n",
       " \n",
       " [4567 rows x 1 columns],\n",
       " 'BOP_weights':                  SPY       TLT\n",
       " Date                          \n",
       " 2003-01-02  0.600000  0.400000\n",
       " 2003-01-03  0.613807  0.386193\n",
       " 2003-01-06  0.613985  0.386015\n",
       " 2003-01-07  0.618746  0.381254\n",
       " 2003-01-08  0.617314  0.382686\n",
       " ...              ...       ...\n",
       " 2021-02-17  0.757301  0.242699\n",
       " 2021-02-18  0.756177  0.243823\n",
       " 2021-02-19  0.756139  0.243861\n",
       " 2021-02-22  0.758274  0.241726\n",
       " 2021-02-23  0.758258  0.241742\n",
       " \n",
       " [4567 rows x 2 columns],\n",
       " 'EOP_weights':                  SPY       TLT\n",
       " Date                          \n",
       " 2003-01-02  0.613807  0.386193\n",
       " 2003-01-03  0.613985  0.386015\n",
       " 2003-01-06  0.618746  0.381254\n",
       " 2003-01-07  0.617314  0.382686\n",
       " 2003-01-08  0.612695  0.387305\n",
       " ...              ...       ...\n",
       " 2021-02-17  0.756177  0.243823\n",
       " 2021-02-18  0.756139  0.243861\n",
       " 2021-02-19  0.758274  0.241726\n",
       " 2021-02-22  0.758258  0.241742\n",
       " 2021-02-23  0.759009  0.240991\n",
       " \n",
       " [4567 rows x 2 columns],\n",
       " 'contribution':                  SPY       TLT\n",
       " Date                          \n",
       " 2003-01-02  0.019313 -0.010342\n",
       " 2003-01-03  0.001887  0.000896\n",
       " 2003-01-06  0.010821 -0.001027\n",
       " 2003-01-07 -0.001531  0.001370\n",
       " 2003-01-08 -0.008920  0.001901\n",
       " ...              ...       ...\n",
       " 2021-02-17  0.000174  0.001541\n",
       " 2021-02-18 -0.003218 -0.000987\n",
       " 2021-02-19 -0.001335 -0.003241\n",
       " 2021-02-22 -0.005832 -0.001839\n",
       " 2021-02-23  0.000921 -0.000697\n",
       " \n",
       " [4567 rows x 2 columns],\n",
       " 'BOP_value':                  SPY       TLT\n",
       " Date                          \n",
       " 2003-01-02  0.600000  0.400000\n",
       " 2003-01-03  0.619313  0.389658\n",
       " 2003-01-06  0.621217  0.390561\n",
       " 2003-01-07  0.632166  0.389522\n",
       " 2003-01-08  0.630602  0.390923\n",
       " ...              ...       ...\n",
       " 2021-02-17  3.802446  1.218607\n",
       " 2021-02-18  3.803318  1.226346\n",
       " 2021-02-19  3.787132  1.221383\n",
       " 2021-02-22  3.780444  1.205148\n",
       " 2021-02-23  3.751365  1.195979\n",
       " \n",
       " [4567 rows x 2 columns],\n",
       " 'EOP_value':                  SPY       TLT\n",
       " Date                          \n",
       " 2003-01-02  0.619313  0.389658\n",
       " 2003-01-03  0.621217  0.390561\n",
       " 2003-01-06  0.632166  0.389522\n",
       " 2003-01-07  0.630602  0.390923\n",
       " 2003-01-08  0.621489  0.392864\n",
       " ...              ...       ...\n",
       " 2021-02-17  3.803318  1.226346\n",
       " 2021-02-18  3.787132  1.221383\n",
       " 2021-02-19  3.780444  1.205148\n",
       " 2021-02-22  3.751365  1.195979\n",
       " 2021-02-23  3.755921  1.192531\n",
       " \n",
       " [4567 rows x 2 columns]}"
      ]
     },
     "execution_count": 52,
     "metadata": {},
     "output_type": "execute_result"
    }
   ],
   "source": [
    "reb_no"
   ]
  },
  {
   "cell_type": "markdown",
   "metadata": {},
   "source": [
    "비중을 확인헤보겠습니다."
   ]
  },
  {
   "cell_type": "code",
   "execution_count": 54,
   "metadata": {},
   "outputs": [
    {
     "data": {
      "text/html": [
       "<div>\n",
       "<style scoped>\n",
       "    .dataframe tbody tr th:only-of-type {\n",
       "        vertical-align: middle;\n",
       "    }\n",
       "\n",
       "    .dataframe tbody tr th {\n",
       "        vertical-align: top;\n",
       "    }\n",
       "\n",
       "    .dataframe thead tr th {\n",
       "        text-align: left;\n",
       "    }\n",
       "\n",
       "    .dataframe thead tr:last-of-type th {\n",
       "        text-align: right;\n",
       "    }\n",
       "</style>\n",
       "<table border=\"1\" class=\"dataframe\">\n",
       "  <thead>\n",
       "    <tr>\n",
       "      <th></th>\n",
       "      <th>SPY</th>\n",
       "      <th>TLT</th>\n",
       "    </tr>\n",
       "    <tr>\n",
       "      <th>Date</th>\n",
       "      <th></th>\n",
       "      <th></th>\n",
       "    </tr>\n",
       "  </thead>\n",
       "  <tbody>\n",
       "    <tr>\n",
       "      <th>2003-01-02</th>\n",
       "      <td>0.600000</td>\n",
       "      <td>0.400000</td>\n",
       "    </tr>\n",
       "    <tr>\n",
       "      <th>2003-01-03</th>\n",
       "      <td>0.613807</td>\n",
       "      <td>0.386193</td>\n",
       "    </tr>\n",
       "    <tr>\n",
       "      <th>2003-01-06</th>\n",
       "      <td>0.613985</td>\n",
       "      <td>0.386015</td>\n",
       "    </tr>\n",
       "    <tr>\n",
       "      <th>2003-01-07</th>\n",
       "      <td>0.618746</td>\n",
       "      <td>0.381254</td>\n",
       "    </tr>\n",
       "    <tr>\n",
       "      <th>2003-01-08</th>\n",
       "      <td>0.617314</td>\n",
       "      <td>0.382686</td>\n",
       "    </tr>\n",
       "  </tbody>\n",
       "</table>\n",
       "</div>"
      ],
      "text/plain": [
       "                 SPY       TLT\n",
       "Date                          \n",
       "2003-01-02  0.600000  0.400000\n",
       "2003-01-03  0.613807  0.386193\n",
       "2003-01-06  0.613985  0.386015\n",
       "2003-01-07  0.618746  0.381254\n",
       "2003-01-08  0.617314  0.382686"
      ]
     },
     "execution_count": 54,
     "metadata": {},
     "output_type": "execute_result"
    }
   ],
   "source": [
    "reb_no['BOP_weights'].head()"
   ]
  },
  {
   "cell_type": "code",
   "execution_count": 55,
   "metadata": {},
   "outputs": [
    {
     "data": {
      "text/plain": [
       "<AxesSubplot:xlabel='Date'>"
      ]
     },
     "execution_count": 55,
     "metadata": {},
     "output_type": "execute_result"
    },
    {
     "data": {
      "image/png": "[encoded data removed]",
      "text/plain": [
       "<Figure size 720x432 with 1 Axes>"
      ]
     },
     "metadata": {
      "needs_background": "light"
     },
     "output_type": "display_data"
    }
   ],
   "source": [
    "reb_no['BOP_weights'].plot.area(figsize = (10, 6))"
   ]
  },
  {
   "cell_type": "markdown",
   "metadata": {},
   "source": [
    "# 2. 60대 40 포트폴리오, 월별 리밸런싱\n",
    "\n",
    "매월 말 60대 40으로 다시 리밸런싱 하는 포트폴리오 입니다. 인자에 'M'을 추가합니다."
   ]
  },
  {
   "cell_type": "code",
   "execution_count": 56,
   "metadata": {},
   "outputs": [
    {
     "name": "stderr",
     "output_type": "stream",
     "text": [
      "100% |########################################################################|\n"
     ]
    }
   ],
   "source": [
    "reb_m = ReturnPortfolio(R, [0.6, 0.4], 'M')"
   ]
  },
  {
   "cell_type": "markdown",
   "metadata": {},
   "source": [
    "비중을 확인해보면 리밸런싱으로 인해 60대 40 비중이 계속 유지됩니다."
   ]
  },
  {
   "cell_type": "code",
   "execution_count": 57,
   "metadata": {},
   "outputs": [
    {
     "data": {
      "text/plain": [
       "<AxesSubplot:xlabel='Date'>"
      ]
     },
     "execution_count": 57,
     "metadata": {},
     "output_type": "execute_result"
    },
    {
     "data": {
      "image/png": "[encoded data removed]",
      "text/plain": [
       "<Figure size 720x432 with 1 Axes>"
      ]
     },
     "metadata": {
      "needs_background": "light"
     },
     "output_type": "display_data"
    }
   ],
   "source": [
    "reb_m['BOP_weights'].plot.area(figsize = (10, 6))"
   ]
  },
  {
   "cell_type": "markdown",
   "metadata": {},
   "source": [
    "포트폴리오의 수익률을 확인해보겠습니다."
   ]
  },
  {
   "cell_type": "code",
   "execution_count": 62,
   "metadata": {},
   "outputs": [
    {
     "data": {
      "text/plain": [
       "<AxesSubplot:xlabel='Date'>"
      ]
     },
     "execution_count": 62,
     "metadata": {},
     "output_type": "execute_result"
    },
    {
     "data": {
      "image/png": "[encoded data removed]",
      "text/plain": [
       "<Figure size 720x432 with 1 Axes>"
      ]
     },
     "metadata": {
      "needs_background": "light"
     },
     "output_type": "display_data"
    }
   ],
   "source": [
    "reb_m['returns'].add(1).cumprod().add(-1).plot(legend = False, figsize = (10, 6))"
   ]
  }
 ],
 "metadata": {
  "kernelspec": {
   "display_name": "Python 3",
   "language": "python",
   "name": "python3"
  },
  "language_info": {
   "codemirror_mode": {
    "name": "ipython",
    "version": 3
   },
   "file_extension": ".py",
   "mimetype": "text/x-python",
   "name": "python",
   "nbconvert_exporter": "python",
   "pygments_lexer": "ipython3",
   "version": "3.8.5"
  }
 },
 "nbformat": 4,
 "nbformat_minor": 4
}
